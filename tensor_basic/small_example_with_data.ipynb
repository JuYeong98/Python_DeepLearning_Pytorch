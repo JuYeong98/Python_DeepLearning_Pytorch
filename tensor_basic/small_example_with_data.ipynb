import torch 
import torch.nn as nn
import numpy as np
import pandas as pd
import matplotlib.pyplot as plt
import seaborn as sns


