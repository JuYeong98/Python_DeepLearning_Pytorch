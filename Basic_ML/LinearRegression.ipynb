{
 "cells": [
  {
   "cell_type": "code",
   "execution_count": 1,
   "metadata": {},
   "outputs": [
    {
     "name": "stdout",
     "output_type": "stream",
     "text": [
      "tensor([1.9708], requires_grad=True) tensor([0.0664], requires_grad=True)\n"
     ]
    }
   ],
   "source": [
    "import torch\n",
    "\n",
    "\n",
    "x_train = torch.FloatTensor([[1], [2], [3]])\n",
    "y_train = torch.FloatTensor([[2],[4],[6]])\n",
    "\n",
    "W = torch.zeros(1, requires_grad=True)\n",
    "b= torch.zeros(1, requires_grad=True)\n",
    "\n",
    "optimizer = torch.optim.SGD([W,b], lr= 0.01)\n",
    "\n",
    "nb_epochs =1000\n",
    "for epoch in range(1,nb_epochs+1):\n",
    "    hypothesis = x_train * W + b\n",
    "    cost  = torch.mean((hypothesis-y_train)**2)\n",
    "\n",
    "    optimizer.zero_grad()\n",
    "    cost.backward()\n",
    "    optimizer.step()\n",
    "\n",
    "print(W, b)    "
   ]
  },
  {
   "cell_type": "code",
   "execution_count": 5,
   "metadata": {},
   "outputs": [
    {
     "name": "stdout",
     "output_type": "stream",
     "text": [
      "Epoch    0/10 W: 0.000 , Cost : 18.666666\n",
      "Epoch    1/10 W: 2.800 , Cost : 2.986666\n",
      "Epoch    2/10 W: 1.680 , Cost : 0.477867\n",
      "Epoch    3/10 W: 2.128 , Cost : 0.076459\n",
      "Epoch    4/10 W: 1.949 , Cost : 0.012233\n",
      "Epoch    5/10 W: 2.020 , Cost : 0.001957\n",
      "Epoch    6/10 W: 1.992 , Cost : 0.000313\n",
      "Epoch    7/10 W: 2.003 , Cost : 0.000050\n",
      "Epoch    8/10 W: 1.999 , Cost : 0.000008\n",
      "Epoch    9/10 W: 2.001 , Cost : 0.000001\n",
      "tensor([1.9998])\n"
     ]
    }
   ],
   "source": [
    "x_train = torch.FloatTensor([[1],[2],[3]])\n",
    "y_train = torch.FloatTensor([[2],[4],[6]])\n",
    "\n",
    "W=torch.zeros(1)\n",
    "lr =0.1\n",
    "\n",
    "np_epochs =10\n",
    "for epoch in range(np_epochs):\n",
    "    hypothesis = W*x_train\n",
    "\n",
    "    cost = torch.mean((hypothesis-y_train)**2)\n",
    "    gradient = torch.sum((W*x_train-y_train)*x_train)\n",
    "\n",
    "    print('Epoch {:4d}/{} W: {:.3f} , Cost : {:.6f}'.format(epoch, np_epochs ,W.item(), cost.item()))\n",
    "\n",
    "    W -= lr*gradient\n",
    "print(W)    "
   ]
  },
  {
   "cell_type": "code",
   "execution_count": null,
   "metadata": {},
   "outputs": [],
   "source": []
  }
 ],
 "metadata": {
  "interpreter": {
   "hash": "61a57a4b5406d2de388e2f91097d4e4bcd7d5f4a46f53a795aa28a02eed27fc5"
  },
  "kernelspec": {
   "display_name": "Python 3.8.8 64-bit ('base': conda)",
   "name": "python3"
  },
  "language_info": {
   "codemirror_mode": {
    "name": "ipython",
    "version": 3
   },
   "file_extension": ".py",
   "mimetype": "text/x-python",
   "name": "python",
   "nbconvert_exporter": "python",
   "pygments_lexer": "ipython3",
   "version": "3.8.8"
  },
  "orig_nbformat": 4
 },
 "nbformat": 4,
 "nbformat_minor": 2
}
